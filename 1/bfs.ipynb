{
 "cells": [
  {
   "cell_type": "code",
   "execution_count": 1,
   "id": "e071182a-635d-4a5a-b891-588eeaf4979d",
   "metadata": {},
   "outputs": [
    {
     "name": "stdout",
     "output_type": "stream",
     "text": [
      "Best First Search Path: ['A', 'B', 'D']\n",
      "Total Cost: 4\n"
     ]
    }
   ],
   "source": [
    "from collections import deque\n",
    "\n",
    "def bfs(graph,start,goal,heuristic):\n",
    "    queue = deque([(start,heuristic[start])])\n",
    "    visited = set()\n",
    "    #dictionary to keep track of parent of each node\n",
    "    parent = {start:None}\n",
    "    #to keep the track of the cost needed to reach each node \n",
    "    cost = {start: 0}\n",
    "    while queue:\n",
    "        queue = deque(sorted(list(queue),key=lambda x:x[1]))\n",
    "        current_node, current_heuristic = queue.popleft()\n",
    "        if current_node is visited:\n",
    "            continue\n",
    "        visited.add(current_node)\n",
    "        if current_node==goal:\n",
    "            break\n",
    "        \n",
    "        for neighbour,edge_cost in graph[current_node]:\n",
    "            if neighbour is not visited:\n",
    "                queue.append((neighbour,heuristic[neighbour]))\n",
    "                parent[neighbour] = current_node\n",
    "                cost[neighbour] = cost[current_node] + edge_cost\n",
    "    path =[]\n",
    "    node = goal\n",
    "    total_cost = cost.get(goal,0)\n",
    "    while node is not None:\n",
    "            path.append(node)\n",
    "            node =parent[node]\n",
    "    path.reverse()\n",
    "    \n",
    "    return path,total_cost\n",
    "        \n",
    "graph = {\n",
    "    'A': [('B', 1), ('C', 2)],\n",
    "    'B': [('D', 3), ('E', 4)],\n",
    "    'C': [('F', 5), ('G', 6)],\n",
    "    'D': [],\n",
    "    'E': [],\n",
    "    'F': [],\n",
    "    'G': []\n",
    "}\n",
    "\n",
    "heuristic = {\n",
    "    'A': 6,\n",
    "    'B': 4,\n",
    "    'C': 4,\n",
    "    'D': 0,\n",
    "    'E': 2,\n",
    "    'F': 3,\n",
    "    'G': 1\n",
    "}\n",
    "\n",
    "start = 'A'\n",
    "goal = 'D'\n",
    "\n",
    "path, total_cost = bfs(graph, start, goal, heuristic)\n",
    "print(\"Best First Search Path:\", path)\n",
    "print(\"Total Cost:\", total_cost)"
   ]
  },
  {
   "cell_type": "code",
   "execution_count": null,
   "id": "ee37fe48-219a-4c7c-b007-169ea37ffe91",
   "metadata": {},
   "outputs": [],
   "source": []
  }
 ],
 "metadata": {
  "kernelspec": {
   "display_name": "Python 3 (ipykernel)",
   "language": "python",
   "name": "python3"
  },
  "language_info": {
   "codemirror_mode": {
    "name": "ipython",
    "version": 3
   },
   "file_extension": ".py",
   "mimetype": "text/x-python",
   "name": "python",
   "nbconvert_exporter": "python",
   "pygments_lexer": "ipython3",
   "version": "3.10.12"
  }
 },
 "nbformat": 4,
 "nbformat_minor": 5
}
