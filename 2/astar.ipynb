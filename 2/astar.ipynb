{
 "cells": [
  {
   "cell_type": "code",
   "execution_count": 1,
   "id": "92d4de76-736f-4c04-8766-3c974268d62a",
   "metadata": {},
   "outputs": [
    {
     "name": "stdout",
     "output_type": "stream",
     "text": [
      "A* Search Path: ['A', 'B', 'D']\n",
      "Total Cost: 2\n"
     ]
    }
   ],
   "source": [
    "from collections import deque\n",
    "\n",
    "def a_star(graph,start,goal,heuristic,cost):\n",
    "    queue = deque([(start,0+heuristic[start])])\n",
    "    visited = set()\n",
    "    g_cost = {start:0}\n",
    "    parent = {start:None}\n",
    "    \n",
    "    while queue:\n",
    "        queue = deque(sorted(list(queue),key=lambda x :x[1]))\n",
    "        current_node,current_f_cost = queue.popleft()\n",
    "        if current_node in visited:\n",
    "            continue\n",
    "        visited.add(current_node)\n",
    "        if current_node ==goal:\n",
    "            break\n",
    "        for neighbor in graph[current_node]:\n",
    "            new_cost = g_cost[current_node] + cost[(current_node,neighbor)]\n",
    "            if neighbor not in g_cost or new_cost<g_cost[neighbor]:\n",
    "                g_cost[neighbor] = new_cost\n",
    "                f_cost = new_cost + heuristic[neighbor]\n",
    "                queue.append((neighbor,f_cost))\n",
    "                parent[neighbor] = current_node\n",
    "    \n",
    "    path =[]\n",
    "    node = goal\n",
    "    total_cost = g_cost.get(goal,0)\n",
    "    while node is not None:\n",
    "        path.append(node)\n",
    "        node = parent[node]\n",
    "    path.reverse()\n",
    "    \n",
    "    \n",
    "    return path,total_cost\n",
    "\n",
    "\n",
    "\n",
    "graph = {\n",
    "    'A': ['B', 'C'],\n",
    "    'B': ['D', 'E'],\n",
    "    'C': ['F', 'G'],\n",
    "    'D': [],\n",
    "    'E': [],\n",
    "    'F': [],\n",
    "    'G': []\n",
    "}\n",
    "\n",
    "\n",
    "heuristic = {\n",
    "    'A': 6,\n",
    "    'B': 4,\n",
    "    'C': 4,\n",
    "    'D': 0,\n",
    "    'E': 2,\n",
    "    'F': 3,\n",
    "    'G': 1\n",
    "}\n",
    "\n",
    "\n",
    "\n",
    "cost = {\n",
    "    ('A', 'B'): 1,\n",
    "    ('A', 'C'): 1,\n",
    "    ('B', 'D'): 1,\n",
    "    ('B', 'E'): 3,\n",
    "    ('C', 'F'): 5,\n",
    "    ('C', 'G'): 2\n",
    "}\n",
    "\n",
    "\n",
    "start = 'A'\n",
    "goal = 'D'\n",
    "path, total_cost = a_star(graph, start, goal, heuristic, cost)\n",
    "print(\"A* Search Path:\", path)\n",
    "print(\"Total Cost:\", total_cost)"
   ]
  },
  {
   "cell_type": "code",
   "execution_count": null,
   "id": "59a5f89f-de36-40ac-bc4d-c38ce58e81a7",
   "metadata": {},
   "outputs": [],
   "source": []
  }
 ],
 "metadata": {
  "kernelspec": {
   "display_name": "Python 3 (ipykernel)",
   "language": "python",
   "name": "python3"
  },
  "language_info": {
   "codemirror_mode": {
    "name": "ipython",
    "version": 3
   },
   "file_extension": ".py",
   "mimetype": "text/x-python",
   "name": "python",
   "nbconvert_exporter": "python",
   "pygments_lexer": "ipython3",
   "version": "3.10.12"
  }
 },
 "nbformat": 4,
 "nbformat_minor": 5
}
