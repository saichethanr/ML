{
 "cells": [
  {
   "cell_type": "code",
   "execution_count": 1,
   "id": "d06958d4-6f0f-4099-884a-5d79b8703657",
   "metadata": {},
   "outputs": [
    {
     "name": "stdout",
     "output_type": "stream",
     "text": [
      "The optimal value is: 23\n",
      "The path taken is: [0, 1, 3, 6]\n"
     ]
    }
   ],
   "source": [
    "def minimax(depth,nodeIndex,maximizingPlayer,values,alpha,beta,path):\n",
    "    #When the depth is 3, the function reaches a terminal node. It returns the value of this node and the path taken to reach it.\n",
    "    if depth==3:\n",
    "        return values[nodeIndex],path+[nodeIndex]\n",
    "    if maximizingPlayer:\n",
    "        best = float('-inf')\n",
    "        best_path =[]\n",
    "        for i in range(2):\n",
    "            val,new_path = minimax(depth+1,nodeIndex*2+i,False,values,alpha,beta,path+[nodeIndex])\n",
    "            if val>best:\n",
    "                best = val\n",
    "                best_path= new_path\n",
    "        return best,best_path\n",
    "    else:\n",
    "        best = float('inf')\n",
    "        best_path = []\n",
    "        for i in range(2):\n",
    "            val,new_path = minimax(depth+1,nodeIndex *2 +1, True, values,alpha,beta,path+[nodeIndex])\n",
    "            if val<best:\n",
    "                best = val\n",
    "                best_path = new_path\n",
    "        return best,best_path\n",
    "        \n",
    "values = [3, 5, 2, 9, 12, 5, 23, 23]\n",
    "# Start the Min-Max algorithm\n",
    "optimal_value, optimal_path = minimax(0, 0, True, values, float('-inf'), float('inf'), [])\n",
    "print(\"The optimal value is:\", optimal_value)\n",
    "print(\"The path taken is:\", optimal_path)"
   ]
  },
  {
   "cell_type": "code",
   "execution_count": null,
   "id": "8e85036a-4d81-446b-ad41-68b8d3a71336",
   "metadata": {},
   "outputs": [],
   "source": []
  }
 ],
 "metadata": {
  "kernelspec": {
   "display_name": "Python 3 (ipykernel)",
   "language": "python",
   "name": "python3"
  },
  "language_info": {
   "codemirror_mode": {
    "name": "ipython",
    "version": 3
   },
   "file_extension": ".py",
   "mimetype": "text/x-python",
   "name": "python",
   "nbconvert_exporter": "python",
   "pygments_lexer": "ipython3",
   "version": "3.10.12"
  }
 },
 "nbformat": 4,
 "nbformat_minor": 5
}
